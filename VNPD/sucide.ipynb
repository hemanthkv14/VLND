{
 "cells": [
  {
   "cell_type": "code",
   "execution_count": 1,
   "metadata": {},
   "outputs": [],
   "source": [
    "import pandas as pd\n",
    "import cv2 as cv\n",
    "import requests as req\n",
    "from PIL import Image\n",
    "from io import BytesIO\n",
    "import numpy as np\n",
    "import matplotlib.pyplot as plt"
   ]
  },
  {
   "cell_type": "code",
   "execution_count": 34,
   "metadata": {
    "scrolled": true
   },
   "outputs": [],
   "source": [
    "df=pd.read_json('Indian_Number_plates.json',lines=True)\n",
    "ct=-1\n",
    "for j in df['content']:\n",
    "    ct+=1\n",
    "    r=req.get(j)\n",
    "    img=Image.open(BytesIO(r.content)).convert(\"RGB\")\n",
    "    img.save('img/pos/'+str(ct)+'.jpg')"
   ]
  },
  {
   "cell_type": "code",
   "execution_count": 30,
   "metadata": {},
   "outputs": [],
   "source": [
    "ct=-1\n",
    "for i in range(1,107):\n",
    "    ct+=1\n",
    "    r=req.get(\"https://github.com/muratlutfigoncu/turkish-license-plate-detector/blob/master/negative_images/UMD_\"+('0'*(3-len(str(i)))+str(i))+'.jpg?raw=true',stream=True)\n",
    "    img=Image.open(BytesIO(r.content))\n",
    "    img.save('img/neg/'+str(ct)+'.jpg')"
   ]
  },
  {
   "cell_type": "code",
   "execution_count": 16,
   "metadata": {},
   "outputs": [
    {
     "data": {
      "text/plain": [
       "'https://github.com/muratlutfigoncu/turkish-license-plate-detector/blob/master/negative_images/UMD_001.jpg?raw=true'"
      ]
     },
     "execution_count": 16,
     "metadata": {},
     "output_type": "execute_result"
    }
   ],
   "source": [
    "ct=-1\n",
    "for i in range(2,996):\n",
    "    ct+=1\n",
    "    r=req.get(\"https://github.com/muratlutfigoncu/turkish-license-plate-detector/blob/master/negative_images/neg-\"+('0'*(4-len(str(i)))+str(i))+\".jpg?raw=true\",stream=True)\n",
    "    img=Image.open(BytesIO(r.content))\n",
    "    img.save('img/neg/'+str(ct)+'.jpg')"
   ]
  },
  {
   "cell_type": "code",
   "execution_count": 29,
   "metadata": {},
   "outputs": [],
   "source": [
    "import os\n",
    "c=0\n",
    "for f in os.listdir('img/neg/'):\n",
    "    src='img/neg/'+str(f)\n",
    "    dst='img/neg/'+str(c)+'.jpg'\n",
    "    os.rename(src,dst)\n",
    "    if c==3018:\n",
    "        break\n",
    "    c+=1"
   ]
  },
  {
   "cell_type": "code",
   "execution_count": 72,
   "metadata": {},
   "outputs": [],
   "source": [
    "fl=open('np.info','w+')\n",
    "fa=open('np.info','a+')\n",
    "for i,j in zip(range(238),df['annotation']):\n",
    "    fa.write('img/pos/'+str(i)+'.jpg '+str(1)+' '+str(int(j[0]['imageWidth']*j[0]['points'][0]['x']))+' '+str(int(j[0]['imageHeight']*j[0]['points'][0]['y']))+' '+str(int(j[0]['imageWidth']*j[0]['points'][1]['x']))+' '+str(int(j[0]['imageHeight']*j[0]['points'][1]['y'])))\n",
    "    fa.write('\\n')\n",
    "fl.close()\n",
    "fa.close()"
   ]
  },
  {
   "cell_type": "code",
   "execution_count": 71,
   "metadata": {},
   "outputs": [],
   "source": [
    "fl=open('ng.txt','w+')\n",
    "fa=open('ng.txt','a+')\n",
    "for i in range(3019):\n",
    "    fa.write('img/neg/'+str(i)+'.jpg')\n",
    "    fa.write('\\n')\n",
    "fl.close()\n",
    "fa.close()"
   ]
  },
  {
   "cell_type": "code",
   "execution_count": 11,
   "metadata": {},
   "outputs": [],
   "source": [
    "df=pd.read_json('Indian_Number_plates.json',lines=True)\n",
    "im,cr=[],[]\n",
    "for i,j in zip(df['annotation'],df['content']):\n",
    "    r=req.get(j)\n",
    "    img=Image.open(BytesIO(r.content))\n",
    "    im.append(img)\n",
    "    for x in i:\n",
    "        c=(x['points'][0]['x']*x['imageWidth'],x['points'][0]['y']*x['imageHeight'],x['points'][1]['x']*x['imageWidth'],x['points'][1]['y']*x['imageHeight'])\n",
    "        cim=img.crop(c).convert(\"RGB\")\n",
    "        cr.append(cim)\n",
    "print(im)\n",
    "cr\n",
    "X=[]\n",
    "for i in im:\n",
    "    X.append(np.asarray(i))\n",
    "Y=[]\n",
    "for i in cr:\n",
    "    Y.append(np.asarray(i))"
   ]
  }
 ],
 "metadata": {
  "kernelspec": {
   "display_name": "Python 3",
   "language": "python",
   "name": "python3"
  },
  "language_info": {
   "codemirror_mode": {
    "name": "ipython",
    "version": 3
   },
   "file_extension": ".py",
   "mimetype": "text/x-python",
   "name": "python",
   "nbconvert_exporter": "python",
   "pygments_lexer": "ipython3",
   "version": "3.7.1"
  }
 },
 "nbformat": 4,
 "nbformat_minor": 2
}
